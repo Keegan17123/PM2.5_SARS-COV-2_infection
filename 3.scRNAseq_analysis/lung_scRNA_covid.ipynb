{
 "cells": [
  {
   "cell_type": "code",
   "execution_count": null,
   "metadata": {},
   "outputs": [],
   "source": [
    "import scanpy as sc\n",
    "import anndata as ad\n",
    "import gseapy as gp\n",
    "import numpy as np\n",
    "import pandas as pd\n",
    "import matplotlib.pyplot as plt\n",
    "from matplotlib.colors import LinearSegmentedColormap"
   ]
  },
  {
   "cell_type": "code",
   "execution_count": 2,
   "metadata": {},
   "outputs": [],
   "source": [
    "sc.settings.set_figure_params(dpi=200,dpi_save=500,vector_friendly=False,facecolor=\"white\")"
   ]
  },
  {
   "cell_type": "code",
   "execution_count": 3,
   "metadata": {},
   "outputs": [],
   "source": [
    "colors = [(0, '#D3D3D3'), (1, '#FF9676')]  \n",
    "n_bins = 100  \n",
    "cmap_name = 'gray2orange'\n",
    "cmap = LinearSegmentedColormap.from_list(cmap_name, colors, N=n_bins)"
   ]
  },
  {
   "cell_type": "code",
   "execution_count": 4,
   "metadata": {},
   "outputs": [],
   "source": [
    "colors = [(0, '#D3D3D3'), (1, '#097B58')]  \n",
    "n_bins = 100 \n",
    "cmap_name = 'gray2green'\n",
    "cmap = LinearSegmentedColormap.from_list(cmap_name, colors, N=n_bins)"
   ]
  },
  {
   "cell_type": "code",
   "execution_count": 5,
   "metadata": {},
   "outputs": [],
   "source": [
    "adata = sc.read_mtx('path/to/your/file.mtx')"
   ]
  },
  {
   "cell_type": "code",
   "execution_count": 6,
   "metadata": {},
   "outputs": [],
   "source": [
    "adata = ad.AnnData.transpose(adata)"
   ]
  },
  {
   "cell_type": "code",
   "execution_count": 7,
   "metadata": {},
   "outputs": [],
   "source": [
    "gene_data = pd.read_csv('/vsphhome/fengguoqing/lung_geneNames_upload.csv',header=None)\n",
    "cell_data = pd.read_csv('/vsphhome/fengguoqing/lung_cellNames.csv',header=None)"
   ]
  },
  {
   "cell_type": "code",
   "execution_count": null,
   "metadata": {},
   "outputs": [],
   "source": [
    "adata.X"
   ]
  },
  {
   "cell_type": "code",
   "execution_count": 9,
   "metadata": {},
   "outputs": [],
   "source": [
    "adata.obs_names = cell_data[0]\n",
    "adata.var_names = gene_data[0]"
   ]
  },
  {
   "cell_type": "code",
   "execution_count": null,
   "metadata": {},
   "outputs": [],
   "source": [
    "adata"
   ]
  },
  {
   "cell_type": "code",
   "execution_count": 11,
   "metadata": {},
   "outputs": [],
   "source": [
    "umap_cor = pd.read_csv('/vsphhome/fengguoqing/lung_clusterfile.txt',sep='\\t')"
   ]
  },
  {
   "cell_type": "code",
   "execution_count": 12,
   "metadata": {},
   "outputs": [],
   "source": [
    "meta_data = pd.read_csv('/vsphhome/fengguoqing/lung_metaData.txt',dtype=str,sep='\\t')"
   ]
  },
  {
   "cell_type": "markdown",
   "metadata": {},
   "source": [
    "The first cell was removed because it lacked metadata information."
   ]
  },
  {
   "cell_type": "code",
   "execution_count": 13,
   "metadata": {},
   "outputs": [],
   "source": [
    "adata = adata[1:,:]"
   ]
  },
  {
   "cell_type": "code",
   "execution_count": 14,
   "metadata": {},
   "outputs": [],
   "source": [
    "umap_data = umap_cor[1:]"
   ]
  },
  {
   "cell_type": "code",
   "execution_count": 15,
   "metadata": {},
   "outputs": [],
   "source": [
    "meta_data2 = meta_data[1:]"
   ]
  },
  {
   "cell_type": "code",
   "execution_count": 16,
   "metadata": {},
   "outputs": [],
   "source": [
    "meta_data2.set_index('NAME',inplace=True)"
   ]
  },
  {
   "cell_type": "code",
   "execution_count": 17,
   "metadata": {},
   "outputs": [],
   "source": [
    "meta_data2 = meta_data2.reindex(adata.obs_names)"
   ]
  },
  {
   "cell_type": "code",
   "execution_count": 18,
   "metadata": {},
   "outputs": [],
   "source": [
    "adata.obs = meta_data2"
   ]
  },
  {
   "cell_type": "code",
   "execution_count": 19,
   "metadata": {},
   "outputs": [],
   "source": [
    "umap_data.set_index('NAME',inplace=True)"
   ]
  },
  {
   "cell_type": "code",
   "execution_count": 20,
   "metadata": {},
   "outputs": [],
   "source": [
    "umap_data = umap_data.reindex(adata.obs_names)"
   ]
  },
  {
   "cell_type": "code",
   "execution_count": 21,
   "metadata": {},
   "outputs": [],
   "source": [
    "umap_data = umap_data.astype(float)"
   ]
  },
  {
   "cell_type": "code",
   "execution_count": 22,
   "metadata": {},
   "outputs": [],
   "source": [
    "adata.obsm['X_umap'] = umap_data.values"
   ]
  },
  {
   "cell_type": "code",
   "execution_count": 23,
   "metadata": {},
   "outputs": [],
   "source": [
    "marker_gene = ['RMC1','NPC1']"
   ]
  },
  {
   "cell_type": "code",
   "execution_count": null,
   "metadata": {},
   "outputs": [],
   "source": [
    "adata"
   ]
  },
  {
   "cell_type": "code",
   "execution_count": 25,
   "metadata": {},
   "outputs": [],
   "source": [
    "adata.obs['total_counts'] = adata.X.sum(axis=1)\n",
    "adata.obs['n_genes'] = (adata.X > 0).sum(axis=1)"
   ]
  },
  {
   "cell_type": "code",
   "execution_count": null,
   "metadata": {},
   "outputs": [],
   "source": [
    "sc.pl.violin(\n",
    "    adata,\n",
    "    [\"n_genes\", \"total_counts\"],\n",
    "    jitter=0.4,\n",
    "    multi_panel=True,\n",
    "    stripplot=False\n",
    ")"
   ]
  },
  {
   "cell_type": "code",
   "execution_count": 27,
   "metadata": {},
   "outputs": [],
   "source": [
    "adata_control = adata[adata.obs['group']=='Control',:]\n",
    "adata_covid = adata[adata.obs['group']=='COVID-19',:]"
   ]
  },
  {
   "cell_type": "code",
   "execution_count": 29,
   "metadata": {},
   "outputs": [
    {
     "data": {
      "text/plain": [
       "(View of AnnData object with n_obs × n_vars = 36677 × 34546\n",
       "     obs: 'biosample_id', 'donor_id', 'species', 'species__ontology_label', 'disease', 'disease__ontology_label', 'organ', 'organ__ontology_label', 'library_preparation_protocol', 'library_preparation_protocol__ontology_label', 'group', 'cell_type_main', 'cell_type_intermediate', 'cell_type_fine', 'initial_clustering', 'age', 'sex', 'recorded_race', 'recorded_ethnicity', 'intubation_days', 'interval_death_symptoms_onset_days', 'pmi_h', 'total_counts', 'n_genes'\n",
       "     obsm: 'X_umap',\n",
       " View of AnnData object with n_obs × n_vars = 79636 × 34546\n",
       "     obs: 'biosample_id', 'donor_id', 'species', 'species__ontology_label', 'disease', 'disease__ontology_label', 'organ', 'organ__ontology_label', 'library_preparation_protocol', 'library_preparation_protocol__ontology_label', 'group', 'cell_type_main', 'cell_type_intermediate', 'cell_type_fine', 'initial_clustering', 'age', 'sex', 'recorded_race', 'recorded_ethnicity', 'intubation_days', 'interval_death_symptoms_onset_days', 'pmi_h', 'total_counts', 'n_genes'\n",
       "     obsm: 'X_umap')"
      ]
     },
     "execution_count": 29,
     "metadata": {},
     "output_type": "execute_result"
    }
   ],
   "source": [
    "adata_control,adata_covid"
   ]
  },
  {
   "cell_type": "code",
   "execution_count": null,
   "metadata": {},
   "outputs": [],
   "source": [
    "sc.pl.umap(\n",
    "    adata_control,\n",
    "    color=\"cell_type_intermediate\",\n",
    "    legend_loc=\"on data\",\n",
    "    frameon=False,\n",
    "    legend_fontsize=8,\n",
    "    legend_fontoutline=1\n",
    ")"
   ]
  },
  {
   "cell_type": "code",
   "execution_count": null,
   "metadata": {},
   "outputs": [],
   "source": [
    "sc.pl.umap(adata_control, color=['NPC1'], color_map=cmap2, show=False)\n",
    "plt.savefig('./dotplot_control_npc1.png',dpi=800)\n",
    "plt.savefig('./umap_control_npc1.svg',dpi=800)"
   ]
  },
  {
   "cell_type": "code",
   "execution_count": null,
   "metadata": {},
   "outputs": [],
   "source": [
    "sc.pl.umap(adata_control, color=['RMC1'], color_map=cmap1, show=False)\n",
    "plt.savefig('./dotplot_control_rmc1.png',dpi=800)\n",
    "plt.savefig('./umap_control_rmc1.svg',dpi=800)"
   ]
  },
  {
   "cell_type": "code",
   "execution_count": null,
   "metadata": {},
   "outputs": [],
   "source": [
    "sc.pl.dotplot(adata_control, ['RMC1'], \"cell_type_intermediate\", cmap=cmap1, show=False)\n",
    "plt.savefig('./dotplot_control_rmc1.png',dpi=800)\n",
    "plt.savefig('./dotplot_control_rmc1.pdf')"
   ]
  },
  {
   "cell_type": "code",
   "execution_count": null,
   "metadata": {},
   "outputs": [],
   "source": [
    "sc.pl.dotplot(adata_control, ['NPC1','RMC1'], \"cell_type_intermediate\", cmap=cmap2, show=False)\n",
    "plt.savefig('./dotplot_control_all.png',dpi=800)\n",
    "plt.savefig('./dotplot_control_all.pdf')"
   ]
  },
  {
   "cell_type": "code",
   "execution_count": null,
   "metadata": {},
   "outputs": [],
   "source": [
    "sc.pl.umap(\n",
    "    adata_covid,\n",
    "    color=\"cell_type_intermediate\",\n",
    "    legend_loc=\"on data\",\n",
    "    frameon=False,\n",
    "    legend_fontsize=6,\n",
    "    legend_fontoutline=1,\n",
    "    show=False,\n",
    "    title = ''\n",
    ")\n",
    "plt.savefig('UMAPcovid_plot.png', format='png', dpi=800)\n",
    "\n",
    "\n",
    "sc.pl.umap(adata_covid, color=['RMC1'],color_map=cmap1,show=False)\n",
    "plt.savefig('feature_covid_rmc1.png', format='png', dpi=800)\n",
    "\n",
    "sc.pl.umap(adata_covid, color=['NPC1'],color_map=cmap2,show=False)\n",
    "plt.savefig('feature_covid_npc1.png', format='png', dpi=800)\n",
    "\n",
    "sc.pl.dotplot(adata_covid, marker_gene, \"cell_type_intermediate\", cmap=cmap1,show=False)\n",
    "plt.savefig('dot_covid1.pdf', format='pdf')\n",
    "\n",
    "sc.pl.dotplot(adata_covid, marker_gene, \"cell_type_intermediate\", cmap=cmap2,show=False)\n",
    "plt.savefig('dot_covid2.pdf', format='pdf')"
   ]
  },
  {
   "cell_type": "code",
   "execution_count": null,
   "metadata": {},
   "outputs": [],
   "source": [
    "sc.pl.umap(\n",
    "    adata_covid,\n",
    "    color=\"cell_type_intermediate\",\n",
    "    legend_loc=\"on data\",\n",
    "    frameon=False,\n",
    "    legend_fontsize=3,\n",
    "    legend_fontoutline=1,\n",
    "    show=False\n",
    ")\n",
    "plt.savefig('./UMAPcovid_plot.pdf', format='pdf')\n",
    "\n",
    "\n",
    "sc.pl.umap(adata_covid, color='cell_type_intermediate',legend_fontsize=3,show=False)\n",
    "plt.savefig('./UMAP2covid_plot.pdf', format='pdf')\n",
    "\n",
    "\n",
    "sc.pl.umap(adata_covid, color=marker_gene,color_map=cmap,show=False)\n",
    "plt.savefig('./feature_covid.pdf', format='pdf')\n",
    "\n",
    "\n",
    "sc.pl.dotplot(adata_covid, marker_gene, \"cell_type_intermediate\", cmap=cmap,show=False)\n",
    "plt.savefig('./dot_covid.pdf', format='pdf')"
   ]
  },
  {
   "cell_type": "code",
   "execution_count": null,
   "metadata": {},
   "outputs": [],
   "source": [
    "sc.pl.umap(\n",
    "    adata_covid,\n",
    "    color=\"cell_type_main\",\n",
    "    legend_loc=\"on data\",\n",
    "    frameon=False,\n",
    "    legend_fontsize=3,\n",
    "    legend_fontoutline=1,\n",
    "    show=False\n",
    ")\n",
    "plt.savefig('./1UMAPcovid_plot.pdf', format='pdf')\n",
    "\n",
    "\n",
    "sc.pl.umap(adata_covid, color='cell_type_main',legend_fontsize=3,show=False)\n",
    "plt.savefig('./1UMAP2covid_plot.pdf', format='pdf')\n",
    "\n",
    "\n",
    "sc.pl.umap(adata_covid, color=marker_gene,color_map=cmap,show=False)\n",
    "plt.savefig('./1feature_covid.pdf', format='pdf')\n",
    "\n",
    "\n",
    "sc.pl.dotplot(adata_covid, marker_gene, \"cell_type_main\", cmap=cmap,show=False)\n",
    "plt.savefig('./1dot_covid.pdf', format='pdf')"
   ]
  },
  {
   "cell_type": "code",
   "execution_count": null,
   "metadata": {},
   "outputs": [],
   "source": [
    "sc.pl.umap(\n",
    "    adata_covid,\n",
    "    color=\"cell_type_fine\",\n",
    "    legend_loc=\"on data\",\n",
    "    frameon=False,\n",
    "    legend_fontsize=3,\n",
    "    legend_fontoutline=1,\n",
    "    show=False\n",
    ")\n",
    "plt.savefig('./2UMAPcovid_plot.pdf', format='pdf')\n",
    "\n",
    "\n",
    "sc.pl.umap(adata_covid, color='cell_type_fine',legend_fontsize=3,show=False)\n",
    "plt.savefig('./2UMAP2covid_plot.pdf', format='pdf')\n",
    "\n",
    "\n",
    "sc.pl.umap(adata_covid, color=marker_gene,color_map=cmap,show=False)\n",
    "plt.savefig('./2feature_covid.pdf', format='pdf')\n",
    "\n",
    "\n",
    "sc.pl.dotplot(adata_covid, marker_gene, \"cell_type_fine\", cmap=cmap,show=False)\n",
    "plt.savefig('./2dot_covid.pdf', format='pdf')"
   ]
  }
 ],
 "metadata": {
  "kernelspec": {
   "display_name": "llm",
   "language": "python",
   "name": "python3"
  },
  "language_info": {
   "codemirror_mode": {
    "name": "ipython",
    "version": 3
   },
   "file_extension": ".py",
   "mimetype": "text/x-python",
   "name": "python",
   "nbconvert_exporter": "python",
   "pygments_lexer": "ipython3",
   "version": "3.10.13"
  }
 },
 "nbformat": 4,
 "nbformat_minor": 2
}
